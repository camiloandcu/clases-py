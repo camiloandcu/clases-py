{
 "cells": [
  {
   "cell_type": "markdown",
   "metadata": {},
   "source": [
    "# Variables"
   ]
  },
  {
   "cell_type": "code",
   "execution_count": 6,
   "metadata": {},
   "outputs": [],
   "source": [
    "num = 67 # Numero: un numero sin puntos ni comillas\n",
    "dec = 0.5 # Decimal: un numero con un punto pero sin comillas\n",
    "text = \"camilo\" # Text: cualquier numero o caracter que tenga comillas"
   ]
  },
  {
   "cell_type": "code",
   "execution_count": 21,
   "metadata": {},
   "outputs": [
    {
     "name": "stdout",
     "output_type": "stream",
     "text": [
      "9\n"
     ]
    }
   ],
   "source": [
    "dos = 2\n",
    "tres = 3\n",
    "suma = uno + dos\n",
    "mult = uno * dos\n",
    "divi = uno / dos\n",
    "print(\"Suma: \" + suma)\n",
    "print(\"Multiplicacion: \" + mult)\n",
    "print(tres * 3)"
   ]
  },
  {
   "cell_type": "code",
   "execution_count": 22,
   "metadata": {},
   "outputs": [
    {
     "name": "stdout",
     "output_type": "stream",
     "text": [
      "11\n"
     ]
    }
   ],
   "source": [
    "var1 = 78\n",
    "var2 = 9.8\n",
    "text = \"pablo\"\n",
    "text = 5\n",
    "print(6 + text)"
   ]
  },
  {
   "cell_type": "markdown",
   "metadata": {},
   "source": [
    "# Condicionales"
   ]
  },
  {
   "cell_type": "code",
   "execution_count": 30,
   "metadata": {},
   "outputs": [
    {
     "name": "stdout",
     "output_type": "stream",
     "text": [
      "Es menor\n"
     ]
    }
   ],
   "source": [
    "num1 = 2\n",
    "num2 = 3\n",
    "if num1 > num2: # Si...\n",
    "    print(\"Es mayor\")\n",
    "elif num1 < num2: # Sino si...\n",
    "    print(\"Es menor\") \n",
    "else: # Sino..\n",
    "    print(\"Es igual\")"
   ]
  },
  {
   "cell_type": "code",
   "execution_count": 37,
   "metadata": {},
   "outputs": [
    {
     "name": "stdout",
     "output_type": "stream",
     "text": [
      "No es igual\n"
     ]
    }
   ],
   "source": [
    "resp = input(\"Quiere ingresar a la plataforma? \")\n",
    "if resp == \"si\":\n",
    "    print(\"Ingresando a la plataforma...\")\n",
    "elif resp == \"no\":\n",
    "    print(\"Saliendo de la plataforma...\")\n",
    "else:\n",
    "    print(\"Opcion incorrecta\")"
   ]
  },
  {
   "cell_type": "code",
   "execution_count": 51,
   "metadata": {},
   "outputs": [
    {
     "name": "stdin",
     "output_type": "stream",
     "text": [
      "ingrese un numero 10\n"
     ]
    },
    {
     "name": "stdout",
     "output_type": "stream",
     "text": [
      "Es igual a 10...\n"
     ]
    }
   ],
   "source": [
    "resp = int(input(\"Ingrese un numero: \"))\n",
    "if resp > 10:\n",
    "    print(\"Es mayor que 10....\")\n",
    "elif resp < 10:\n",
    "    print(\"Es menor que 10...\")\n",
    "else:\n",
    "    print(\"Es igual a 10...\")"
   ]
  },
  {
   "cell_type": "markdown",
   "metadata": {
    "jp-MarkdownHeadingCollapsed": true,
    "tags": []
   },
   "source": [
    "# Listas\n",
    "Los vectores tienen un espacio no dinámico (no se puede cambiar a lo largo del programa) y son de un mismo tipo, mientras que la listas pueden cambiar su espacio a lo largo del programa y pueden ser de múltiples tipos"
   ]
  },
  {
   "cell_type": "code",
   "execution_count": 14,
   "metadata": {},
   "outputs": [
    {
     "name": "stdout",
     "output_type": "stream",
     "text": [
      "1\n",
      "hola\n",
      "3.14\n"
     ]
    }
   ],
   "source": [
    "milista = [1, 'hola', 3.14, 54] # \n",
    "        #  0    1      2\n",
    "print(milista[0]) # imprimir milista indice 0\n",
    "print(milista[1]) # imprimir milista indice 1\n",
    "print(milista[2]) # imprimir milista indice 2"
   ]
  },
  {
   "cell_type": "code",
   "execution_count": null,
   "metadata": {},
   "outputs": [],
   "source": [
    "print(\"El número de elementos es: \" + str(len(milista)))\n",
    "\n",
    "nombre = 'jose'\n",
    "milista.append(nombre) # Añadir elementos con .append()\n",
    "print(milista)\n",
    "print(\"El número de elementos es: \" + str(len(milista)))"
   ]
  },
  {
   "cell_type": "code",
   "execution_count": 21,
   "metadata": {},
   "outputs": [
    {
     "name": "stdout",
     "output_type": "stream",
     "text": [
      "['jhon', 'carlos', 'juan']\n",
      "El numero de elementos es: 3\n"
     ]
    }
   ],
   "source": [
    "lista=[\"jhon\"]\n",
    "nombre=\"carlos\"\n",
    "nombr=\"juan\"\n",
    "#lista.append(nombre)  \n",
    "#lista.append(nombr)\n",
    "lista.append(\"carlos\") # append es añadir\n",
    "lista.append(\"juan\")\n",
    "print(lista) # mostrar lista\n",
    "print(\"El numero de elementos es: \" + str(len(lista))) # len es contar"
   ]
  },
  {
   "cell_type": "markdown",
   "metadata": {},
   "source": [
    "# Ciclos"
   ]
  },
  {
   "cell_type": "markdown",
   "metadata": {},
   "source": [
    "## Ciclo for"
   ]
  },
  {
   "cell_type": "code",
   "execution_count": 33,
   "metadata": {},
   "outputs": [
    {
     "name": "stdout",
     "output_type": "stream",
     "text": [
      "0\n",
      "1\n",
      "2\n",
      "3\n",
      "4\n",
      "\t\n",
      "1\n",
      "2\n",
      "3\n",
      "4\n",
      "\t\n",
      "1\n",
      "3\n",
      "5\n",
      "7\n",
      "9\n",
      "\t\n"
     ]
    }
   ],
   "source": [
    "# CONTAR (range)\n",
    "for m in range(5): # para m en el rango 0 a 5 \n",
    "    print(m)\n",
    "    \n",
    "print(\"\\t\")\n",
    "\n",
    "for x in range(1, 5): # para x en el rango 1 a 5 \n",
    "    print(x)\n",
    "    \n",
    "print(\"\\t\")\n",
    "\n",
    "for y in range(1, 10, 2): # para y en el rango 1 a 10 con incremento de 2 \n",
    "    print(y)\n",
    "    \n",
    "print(\"\\t\")"
   ]
  },
  {
   "cell_type": "code",
   "execution_count": 43,
   "metadata": {},
   "outputs": [
    {
     "name": "stdout",
     "output_type": "stream",
     "text": [
      "rojo\n",
      "amarillo\n",
      "verde\n",
      "azul\n",
      "purpura\n"
     ]
    }
   ],
   "source": [
    "# LISTA\n",
    "colores = [\"rojo\", \"amarillo\", \"verde\", \"azul\", \"purpura\"]\n",
    "for a in range(5): # 0, 1, 2, 3, 4\n",
    "    print(colores[a])\n",
    "    "
   ]
  },
  {
   "cell_type": "raw",
   "metadata": {},
   "source": [
    "Pseudocódigo:\n",
    "\n",
    "nombres = []\n",
    "cantidad = teclado(\"Cuántos nombres desea ingresar?\")\n",
    "\n",
    "para i en el rango de cantidad, hacer:\n",
    "    var = teclado(\"Qué nombre desea añadir?\")\n",
    "    añadir var a nombres\n",
    "    \n",
    "imprimir nombres"
   ]
  },
  {
   "cell_type": "code",
   "execution_count": 11,
   "metadata": {
    "tags": []
   },
   "outputs": [
    {
     "name": "stdin",
     "output_type": "stream",
     "text": [
      "cuantos nombres desea ingresar... 3\n",
      "que nombre desea agregar... juan jhon camilo\n",
      "que nombre desea agregar... lol\n",
      "que nombre desea agregar... xd\n"
     ]
    },
    {
     "name": "stdout",
     "output_type": "stream",
     "text": [
      "['juan jhon camilo', 'lol', 'xd']\n"
     ]
    }
   ],
   "source": [
    "# Un programa que inicie con una lista vacia llamada nombres, y que le pregunte al usuario cuantos nombres desea añadir. \n",
    "# despues de esto, preguntar los nombres y añadirlos. \n",
    "\n",
    "nombres = []\n",
    "resp = int(input(\"cuantos nombres desea ingresar...\"))   \n",
    "for i in range(resp):\n",
    "    var = input(\"que nombre desea agregar...\")\n",
    "    nombres.append(var) \n",
    "print(nombres)"
   ]
  }
 ],
 "metadata": {
  "kernelspec": {
   "display_name": "Python 3 (ipykernel)",
   "language": "python",
   "name": "python3"
  },
  "language_info": {
   "codemirror_mode": {
    "name": "ipython",
    "version": 3
   },
   "file_extension": ".py",
   "mimetype": "text/x-python",
   "name": "python",
   "nbconvert_exporter": "python",
   "pygments_lexer": "ipython3",
   "version": "3.7.12"
  }
 },
 "nbformat": 4,
 "nbformat_minor": 4
}
